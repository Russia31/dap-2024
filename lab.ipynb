{
  "cells": [
    {
      "cell_type": "markdown",
      "metadata": {
        "id": "view-in-github",
        "colab_type": "text"
      },
      "source": [
        "<a href=\"https://colab.research.google.com/github/Russia31/dap-2024/blob/main/lab.ipynb\" target=\"_parent\"><img src=\"https://colab.research.google.com/assets/colab-badge.svg\" alt=\"Open In Colab\"/></a>"
      ]
    },
    {
      "cell_type": "markdown",
      "metadata": {
        "id": "E-Oef70G3saE"
      },
      "source": [
        "# Лабораторная работа №2. Основы Python"
      ]
    },
    {
      "cell_type": "markdown",
      "metadata": {
        "id": "1zdw7omn3saF"
      },
      "source": [
        "## Задание"
      ]
    },
    {
      "cell_type": "markdown",
      "metadata": {
        "id": "gAN3Rznr3saG"
      },
      "source": [
        "Выполните следующие задания:\n",
        "\n",
        "1. Откройте в файл в Google Colab (используйте собственный форк репозитория).\n",
        "2. Решите задачи.\n",
        "3. Сохраните результат в ваш репозиторий github в директорию ./les02\n",
        "4. Создайте pull request в репозиторий https://github.com/chebotarevsa/dap-2024. Название pull request должно иметь формат \"<Номер лабораторной работы>  <Номер группы> <ФИО>\"\n",
        "5. Сдайте работу в системе \"Пегас\", в отчет укажите ссылку на pull request"
      ]
    },
    {
      "cell_type": "markdown",
      "metadata": {
        "id": "wWeXw4Or3saG"
      },
      "source": [
        "Задача №1. https://leetcode.com/problems/two-sum/"
      ]
    },
    {
      "cell_type": "code",
      "execution_count": null,
      "metadata": {
        "id": "NfcAcAJt3saG"
      },
      "outputs": [],
      "source": [
        "class Solution(object):\n",
        "    def twoSum(self, nums, target):\n",
        "        self.nums=nums\n",
        "        self.target=target\n",
        "        lens=len(nums)\n",
        "        for i in range(lens):\n",
        "            for j in range(i + 1, lens):\n",
        "                if nums[i] + nums[j] == target:\n",
        "                    return [i, j]\n",
        "\n",
        "test=Solution()\n",
        "print(test.twoSum([1,10,6,5,9],7))"
      ]
    },
    {
      "cell_type": "markdown",
      "source": [
        "Ответ:[0,2]"
      ],
      "metadata": {
        "id": "6RucWBdA6PLF"
      }
    },
    {
      "cell_type": "markdown",
      "metadata": {
        "id": "Bk6V-QhU3saH"
      },
      "source": [
        "Задача №2. https://leetcode.com/problems/palindrome-number/description/"
      ]
    },
    {
      "cell_type": "code",
      "execution_count": null,
      "metadata": {
        "id": "qRBOll1W3saH"
      },
      "outputs": [],
      "source": [
        "class Solution(object):\n",
        "    def isPalindrome(self, x):\n",
        "        self.x=x\n",
        "        if(x<0):\n",
        "            return False\n",
        "        if(x%100==0 or x==0):\n",
        "            return False\n",
        "        temp=x\n",
        "        rev=0\n",
        "        while temp > 0:\n",
        "            dig = temp % 10\n",
        "            rev = rev * 10 + dig\n",
        "            temp //= 10\n",
        "\n",
        "        return rev == x\n",
        "my_sol = Solution()\n",
        "result = my_sol.isPalindrome(12321)\n",
        "print(result)\n"
      ]
    },
    {
      "cell_type": "markdown",
      "source": [
        "Ответ: True"
      ],
      "metadata": {
        "id": "8P7xC1Im61Sr"
      }
    },
    {
      "cell_type": "markdown",
      "metadata": {
        "id": "s4lL8Np-3saH"
      },
      "source": [
        "Задача №3. https://leetcode.com/problems/roman-to-integer/description/"
      ]
    },
    {
      "cell_type": "code",
      "execution_count": null,
      "metadata": {
        "id": "eNHGWSX03saI"
      },
      "outputs": [],
      "source": [
        "class Solution(object):\n",
        "    def romanToInt(self, s):\n",
        "\n",
        "        roman_map = {\n",
        "            'I': 1,\n",
        "            'V': 5,\n",
        "            'X': 10,\n",
        "            'L': 50,\n",
        "            'C': 100,\n",
        "            'D': 500,\n",
        "            'M': 1000\n",
        "        }\n",
        "\n",
        "        total = 0\n",
        "        prev_value = 0\n",
        "\n",
        "        for char in reversed(s):\n",
        "            curr_value = roman_map[char]\n",
        "            if curr_value < prev_value:\n",
        "                total -= curr_value\n",
        "            else:\n",
        "                total += curr_value\n",
        "            prev_value = curr_value\n",
        "\n",
        "        return total\n",
        "sol = Solution()\n",
        "print(sol.romanToInt(\"LVIII\"))\n"
      ]
    },
    {
      "cell_type": "markdown",
      "source": [
        "Ответ:58"
      ],
      "metadata": {
        "id": "dQKMJTb08SlH"
      }
    },
    {
      "cell_type": "markdown",
      "metadata": {
        "id": "bdg3tYMB3saI"
      },
      "source": [
        "Задача №4. https://leetcode.com/problems/longest-common-prefix/description/"
      ]
    },
    {
      "cell_type": "code",
      "execution_count": null,
      "metadata": {
        "id": "cyWqNf2m3saI"
      },
      "outputs": [],
      "source": [
        "class Solution(object):\n",
        "    def longestCommonPrefix(self, strs):\n",
        "        self.strs=strs\n",
        "        pref=strs[0]\n",
        "        for string in strs[1:]:\n",
        "            while string[:len(pref)] !=pref and pref:\n",
        "                pref=pref[:-1]\n",
        "        if pref != string[:len(pref)]:\n",
        "            pref = \"\"\n",
        "            return pref\n",
        "        return pref\n",
        "strs1 = Solution()\n",
        "print(strs1.longestCommonPrefix([\"abcccab\", \"abcbb\", \"abcabab\"]))"
      ]
    },
    {
      "cell_type": "markdown",
      "source": [
        "Ответ: abc"
      ],
      "metadata": {
        "id": "2O3wNdmi9Eeo"
      }
    },
    {
      "cell_type": "markdown",
      "metadata": {
        "id": "O9akuak33saI"
      },
      "source": [
        "Задача №5. https://leetcode.com/problems/merge-two-sorted-lists/description/"
      ]
    },
    {
      "cell_type": "code",
      "execution_count": null,
      "metadata": {
        "id": "VTZ4Lqez3saI"
      },
      "outputs": [],
      "source": [
        "\n",
        "class Solution(object):\n",
        "    def mergeTwoLists(self, list1, list2):\n",
        "        self.list1=list1\n",
        "        self.list2=list2\n",
        "        new_list=[]\n",
        "        new_list.extend(list1)\n",
        "        new_list.extend(list2)\n",
        "        new_list.sort()\n",
        "        return new_list\n",
        "\n",
        "mass = Solution()\n",
        "print(mass.mergeTwoLists([3, 5, 6], [1, 3, 4]))"
      ]
    },
    {
      "cell_type": "markdown",
      "source": [
        "Ответ:[1,3,3,4,5,6]"
      ],
      "metadata": {
        "id": "LYrOnWLr-YsS"
      }
    },
    {
      "cell_type": "markdown",
      "metadata": {
        "id": "jE4fPWK83saI"
      },
      "source": [
        "Задача №6. https://leetcode.com/problems/longest-substring-without-repeating-characters/description/"
      ]
    },
    {
      "cell_type": "code",
      "execution_count": null,
      "metadata": {
        "id": "Mzxk23ko3saI"
      },
      "outputs": [],
      "source": [
        "class Solution(object):\n",
        "    def lengthOfLongestSubstring(self, s):\n",
        "        mas={}\n",
        "        start=0\n",
        "        max_len=0\n",
        "        for i in range(len(s)):\n",
        "            if s[i] in mas:\n",
        "                start= max(start, mas[s[i]]+1)\n",
        "            mas[s[i]]=i\n",
        "            max_len=max(max_len,i-start+1)\n",
        "        return max_len\n",
        "test=Solution()\n",
        "print(test.lengthOfLongestSubstring(\"abcabcbb\"))\n"
      ]
    },
    {
      "cell_type": "markdown",
      "source": [
        "Ответ: 3"
      ],
      "metadata": {
        "id": "w49RGEm1_4HR"
      }
    },
    {
      "cell_type": "markdown",
      "metadata": {
        "id": "Jo8Lle2a3saI"
      },
      "source": [
        "## Вопросы\n",
        "\n",
        "1. Что такое динамическая типизация и чем она отличается от статической?\n",
        "\n",
        "* Динамическая типизация — это подход, при котором тип переменной определяется во время выполнения программы. Программист не обязан указывать тип переменной — он присваивается автоматически в зависимости от значения.\n",
        "\n",
        "      Пример: x = 10 (x будет типа int).\n",
        "\n",
        "* Статическая типизация — тип переменной указывается при объявлении и проверяется на этапе компиляции, то есть тип переменной известен заранее.\n",
        "\n",
        "      Пример: int x = 10; (x всегда будет int).\n",
        "\n",
        "Основное отличие в том, что в динамической типизации тип переменной определяется в процессе выполнения, а в статической — на этапе компиляции.\n",
        "\n",
        "2. Чем отличается цикл for в Python от цикла for в С++?\n",
        "\n",
        "В Python цикл for используется для итерации по последовательностям (списки, строки, диапазоны и т. д.). В Python не нужно явно указывать условия для остановки цикла.\n",
        "```\n",
        "for i in range(5):\n",
        "    print(i)\n",
        "\n",
        "```\n",
        "В C++ цикл for обычно используется с явным указанием начального значения, условия продолжения и шага итерации.\n",
        "```\n",
        "for(int i = 0; i < 5; i++) {\n",
        "    cout << i << endl;\n",
        "}\n",
        "\n",
        "```\n",
        "3. Для чего предназначены операторы continue и break?\n",
        "\n",
        "* break: Останавливает выполнение цикла досрочно, независимо от условия продолжения.\n",
        "\n",
        "* continue: Пропускает оставшуюся часть тела цикла и переходит к следующей итерации.\n",
        "\n",
        "\n",
        "4. Как определить функцию в python? Может ли функция возвращать несколько значений?\n",
        "\n",
        "Функция в Python определяется с помощью ключевого слова def.\n",
        "\n",
        "      def my_function(x, y):\n",
        "        return x + y\n",
        "\n",
        "Да, функция может возвращать несколько значений, это будет кортеж.\n",
        "\n",
        "      def add_and_multiply(x, y):\n",
        "        return x + y, x * y\n",
        "\n",
        "5. Что такое лямбда функции и для чего они предназначены?\n",
        "\n",
        "Лямбда-функция — это анонимная функция, которую можно создать с помощью ключевого слова lambda. Лямбда-функции обычно используются для кратковременных вычислений, когда не нужно определять полноценную функцию.\n",
        "\n",
        "6. Может ли тело функции содержать определение другой функции?\n",
        "\n",
        "Да, в Python функции могут содержать другие функции. Такие функции называются вложенными.\n",
        "\n",
        "      def outer():\n",
        "        def inner():\n",
        "          return \"Hello from inner function\"\n",
        "        return inner()\n",
        "\n",
        "      print(outer())  # Выведет \"Hello from inner function\"\n",
        "\n",
        "7. Как определить класс в python? Для чего нужна переменная self?\n",
        "\n",
        "Класс в Python определяется с помощью ключевого слова class.\n",
        "\n",
        "Переменная self используется для ссылки на текущий объект класса. Она необходима для доступа к атрибутам и методам этого объекта.\n",
        "\n",
        "8. Как определить приватный метод? Можно ли вызвать приватный метод за пределами класса?\n",
        "\n",
        "Приватные методы в Python определяются с использованием двойного подчеркивания в имени метода. Приватные методы можно вызвать за пределами класса, но это не рекомендуется, так как они предназначены для использования только внутри класса.\n",
        "\n",
        "      class MyClass:\n",
        "        def __private_method(self):\n",
        "          print(\"This is a private method\")\n",
        "\n",
        "9. Как определить статический метод класса? Для чего может понадобиться статический метод?\n",
        "\n",
        "Статический метод в Python определяется с использованием декоратора @staticmethod. Статический метод не зависит от экземпляра класса и может быть вызван без создания объекта. Он используется для операций, которые не требуют доступа к данным экземпляра.\n",
        "\n",
        "      class MyClass:\n",
        "        @staticmethod\n",
        "        def static_method():\n",
        "          print(\"This is a static method\")\n",
        "\n",
        "10. Чем staticmethod отличается от classmethod?\n",
        "\n",
        "* staticmethod: Метод, который не зависит от экземпляра или класса. Он работает только с теми параметрами, которые передаются явно.\n",
        "* classmethod: Метод, который принимает в качестве первого аргумента сам класс (cls), а не экземпляр. Этот метод может изменять состояние класса.\n",
        "\n",
        "11. Как определить собственный класс исключений Python? Как выбросить и перехватить исключение?\n",
        "\n",
        "Собственный класс исключения можно определить, наследуя от встроенного класса Exception.\n",
        "\n",
        "      class MyCustomError(Exception):\n",
        "        pass\n",
        "Исключение выбрасывается с помощью raise:\n",
        "\n",
        "      raise MyCustomError(\"An error occurred\")\n",
        "Исключение перехватывается с помощью try и except:\n",
        "\n",
        "      try:\n",
        "        raise MyCustomError(\"An error occurred\")\n",
        "      except MyCustomError as e:\n",
        "        print(f\"Caught exception: {e}\")\n",
        "\n",
        "12. Что такое картеж, для чего он используется?\n",
        "\n",
        "Картеж — это неизменяемая (immutable) последовательность данных. Картежи используются для хранения коллекций данных, которые не должны изменяться после их создания.\n",
        "Картежи полезны, когда нужно гарантировать, что данные не будут изменены, например, в качестве ключей в словарях или для группировки данных."
      ]
    }
  ],
  "metadata": {
    "language_info": {
      "name": "python"
    },
    "colab": {
      "provenance": [],
      "include_colab_link": true
    }
  },
  "nbformat": 4,
  "nbformat_minor": 0
}