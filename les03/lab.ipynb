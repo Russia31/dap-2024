{
  "cells": [
    {
      "cell_type": "markdown",
      "metadata": {
        "id": "view-in-github",
        "colab_type": "text"
      },
      "source": [
        "<a href=\"https://colab.research.google.com/github/Russia31/dap-2024/blob/main/les03/lab.ipynb\" target=\"_parent\"><img src=\"https://colab.research.google.com/assets/colab-badge.svg\" alt=\"Open In Colab\"/></a>"
      ]
    },
    {
      "cell_type": "markdown",
      "metadata": {
        "id": "qQvfD-M40xIt"
      },
      "source": [
        "# Лабораторная работа №3. NumPy"
      ]
    },
    {
      "cell_type": "markdown",
      "metadata": {
        "id": "eeeUBsb_X6x0"
      },
      "source": [
        "## Задание"
      ]
    },
    {
      "cell_type": "markdown",
      "metadata": {
        "id": "Q8FFEA2R08uS"
      },
      "source": [
        "Выполните следующие задания:\n",
        "\n",
        "1. Откройте в файл в Google Colab (используйте собственный форк репозитория).\n",
        "2. Решите задачи.\n",
        "3. Сохраните результат в ваш репозиторий github в директорию ./les03\n",
        "4. Создайте pull request в репозиторий https://github.com/chebotarevsa/dap-2024. Название pull request должно иметь формат \"<Номер лабораторной работы>  <Номер группы> <ФИО>\"\n",
        "5. Сдайте работу в системе \"Пегас\", в отчет укажите ссылку на pull request"
      ]
    },
    {
      "cell_type": "code",
      "execution_count": null,
      "metadata": {
        "colab": {
          "base_uri": "https://localhost:8080/",
          "height": 35
        },
        "id": "3ftbuMN45IlN",
        "outputId": "a202a579-7cba-405d-995b-9387cd4738a1"
      },
      "outputs": [
        {
          "data": {
            "text/plain": [
              "'2.1.0'"
            ]
          },
          "execution_count": 1,
          "metadata": {},
          "output_type": "execute_result"
        }
      ],
      "source": [
        "import numpy as np\n",
        "np.version.version"
      ]
    },
    {
      "cell_type": "markdown",
      "metadata": {
        "id": "6iPL4gTu2ECp"
      },
      "source": [
        "1. Создать массив 10x10 со случайными значениями, найти минимум и максимум (низкая)"
      ]
    },
    {
      "cell_type": "code",
      "execution_count": null,
      "metadata": {
        "id": "v-AutHvo2T-D"
      },
      "outputs": [],
      "source": [
        "import numpy as np\n",
        "x=np.random.randint(1, 100, (10, 10))\n",
        "print(x)\n",
        "print(np.max(x))\n",
        "print(np.min(x))"
      ]
    },
    {
      "cell_type": "markdown",
      "source": [
        "Ответ:[[40 87 59 37 48 76 99 41 81 51]\n",
        "\n",
        " [98 19 17 14 10 14 88 87 55 60]\n",
        "\n",
        " [50 82 34 61 68 25 74 48 19 43]\n",
        "\n",
        " [90 54 64 59 44 81 17 76 25 25]\n",
        "\n",
        " [30 96 18 37 73  6 78  1 40 23]\n",
        "\n",
        " [96  5 22 62 60 17 51 34 92 24]\n",
        "\n",
        " [79 75  2 25 25 43 17  7 66 79]\n",
        "\n",
        " [98 84 16  8 10 76 12 53 61 92]\n",
        "\n",
        " [49 15 56 10 26 50 91 65 91 83]\n",
        "\n",
        " [30 49 65 47 32 78 84 45 35 34]]\n",
        "\n",
        "99\n",
        "\n",
        "1\n"
      ],
      "metadata": {
        "id": "WXvS3tlokk23"
      }
    },
    {
      "cell_type": "markdown",
      "metadata": {
        "id": "cwxKoGik2Xfd"
      },
      "source": [
        "2. Создать 8x8 матрицу и заполнить её единицами и нулями в шахматном порядке"
      ]
    },
    {
      "cell_type": "code",
      "execution_count": null,
      "metadata": {
        "id": "zACAjKWC2lBy"
      },
      "outputs": [],
      "source": [
        "import numpy as np\n",
        "x=np.zeros((8,8))\n",
        "x[0::2, 0::2] = 1\n",
        "x[1::2, 1::2] = 1\n",
        "print(x)"
      ]
    },
    {
      "cell_type": "markdown",
      "source": [
        "[[1. 0. 1. 0. 1. 0. 1. 0.]\n",
        "\n",
        " [0. 1. 0. 1. 0. 1. 0. 1.]\n",
        "\n",
        " [1. 0. 1. 0. 1. 0. 1. 0.]\n",
        "\n",
        " [0. 1. 0. 1. 0. 1. 0. 1.]\n",
        "\n",
        " [1. 0. 1. 0. 1. 0. 1. 0.]\n",
        "\n",
        " [0. 1. 0. 1. 0. 1. 0. 1.]\n",
        "\n",
        " [1. 0. 1. 0. 1. 0. 1. 0.]\n",
        "\n",
        " [0. 1. 0. 1. 0. 1. 0. 1.]]"
      ],
      "metadata": {
        "id": "uyhDvMQ3mfJL"
      }
    },
    {
      "cell_type": "markdown",
      "metadata": {
        "id": "YvNFm7Io2tSA"
      },
      "source": [
        "3. Дан массив из 11 элементов, поменять знак у элементов, значения которых между 3 и 8"
      ]
    },
    {
      "cell_type": "code",
      "execution_count": null,
      "metadata": {
        "id": "cczoe3OY27fA"
      },
      "outputs": [],
      "source": [
        "import numpy as np\n",
        "z = np.arange(11)\n",
        "z[3:8]*=-1\n",
        "print(z)"
      ]
    },
    {
      "cell_type": "markdown",
      "source": [
        "[ 0  1  2 -3 -4 -5 -6 -7  8  9 10]\n",
        "\n"
      ],
      "metadata": {
        "id": "GzgEfL0PmyR0"
      }
    },
    {
      "cell_type": "markdown",
      "metadata": {
        "id": "tInYHRPf2-jQ"
      },
      "source": [
        "4. Найти среднее заначение строки матрицы и вычесть его из каждого елемента строки"
      ]
    },
    {
      "cell_type": "code",
      "execution_count": null,
      "metadata": {
        "id": "Zbv_WG9w3km1"
      },
      "outputs": [],
      "source": [
        "import numpy as np\n",
        "z = np.random.rand(5, 10)\n",
        "print(z)\n",
        "sr=np.mean(z)\n",
        "print(sr)\n",
        "z=z-sr\n",
        "print(z)"
      ]
    },
    {
      "cell_type": "markdown",
      "source": [
        "[[0.98716534 0.73434322 0.50633695 0.39101841 0.19419039 0.06639497\n",
        "  0.12426281 0.31422622 0.66950633 0.19616812]\n",
        "\n",
        " [0.4870844  0.65645545 0.59579583 0.97523425 0.49936984 0.81018571\n",
        "  0.10589335 0.26768015 0.44729746 0.70480573]\n",
        "  \n",
        "   [0.8366336  0.53093428 0.01062627 0.95383183 0.77630526 0.58098995\n",
        "  0.43690785 0.91506911 0.28441606 0.54825546]\n",
        "\n",
        " [0.64485454 0.84117458 0.21056639 0.86846733 0.73046356 0.06571702\n",
        "  0.0259436  0.90257397 0.91435781 0.18454883]\n",
        "\n",
        " [0.40894019 0.71647918 0.07806086 0.82012071 0.85287076 0.98907368\n",
        "  0.49479763 0.49501952 0.45127781 0.45341742]]\n",
        "0.5351222001269896\n",
        "\n",
        "[  [ 0.45204314  0.19922102 -0.02878525 -0.14410379 -0.34093181 -0.46872723\n",
        "  -0.41085939 -0.22089598  0.13438413 -0.33895408]\n",
        "\n",
        " [-0.0480378   0.12133325  0.06067363  0.44011205 -0.03575236  0.27506351\n",
        "  -0.42922885 -0.26744206 -0.08782474  0.16968353]\n",
        "\n",
        " [ 0.3015114  -0.00418792 -0.52449593  0.41870963  0.24118306  0.04586774\n",
        "  -0.09821435  0.37994691 -0.25070614  0.01313326]\n",
        "\n",
        " [ 0.10973234  0.30605238 -0.32455581  0.33334513  0.19534136 -0.46940518\n",
        "  -0.5091786   0.36745177  0.37923561 -0.35057337]\n",
        "\n",
        " [-0.12618201  0.18135698 -0.45706134  0.28499851  0.31774856  0.45395148\n",
        "  -0.04032457 -0.04010268 -0.08384439 -0.08170478]]"
      ],
      "metadata": {
        "id": "dMTiNIBPm-mP"
      }
    },
    {
      "cell_type": "markdown",
      "metadata": {
        "id": "OStor4mW3lpJ"
      },
      "source": [
        "5. Поменяйте 1 и 2 строки матрицы"
      ]
    },
    {
      "cell_type": "code",
      "execution_count": null,
      "metadata": {
        "id": "5vfeHqyF3qKd"
      },
      "outputs": [],
      "source": [
        "import numpy as np\n",
        "z = np.arange(25).reshape(5,5)\n",
        "z[[0,1]]=z[[1,0]]\n",
        "print(z)"
      ]
    },
    {
      "cell_type": "markdown",
      "source": [
        "[[ 5  6  7  8  9]\n",
        "\n",
        " [ 0  1  2  3  4]\n",
        "\n",
        " [10 11 12 13 14]\n",
        "\n",
        " [15 16 17 18 19]\n",
        "\n",
        " [20 21 22 23 24]]"
      ],
      "metadata": {
        "id": "n_IQkbMYncXy"
      }
    },
    {
      "cell_type": "markdown",
      "metadata": {
        "id": "IPQ9xIIk3qml"
      },
      "source": [
        "6. Дан массив 10x2 подеставлющий собой точки в декартовой системе координат, преобразовать в полярную"
      ]
    },
    {
      "cell_type": "code",
      "execution_count": null,
      "metadata": {
        "id": "zGHBaX8b30Uv"
      },
      "outputs": [],
      "source": [
        "import numpy as np\n",
        "z = np.random.random((10,2))\n",
        "print(z)\n",
        "x,y = z[:,0], z[:,1]\n",
        "a = np.hypot(x, y)\n",
        "b = np.arctan2(y,x)\n",
        "print(a)\n",
        "print(b)"
      ]
    },
    {
      "cell_type": "markdown",
      "source": [
        "[[0.56158776 0.74732166]\n",
        "\n",
        " [0.67659179 0.01200333]\n",
        "\n",
        " [0.84041641 0.82789379]\n",
        "\n",
        " [0.3669869  0.44977315]\n",
        "\n",
        " [0.62453406 0.54221153]\n",
        "\n",
        " [0.86391463 0.4626313 ]\n",
        "\n",
        " [0.12544344 0.02866769]\n",
        "\n",
        " [0.25071698 0.61941349]\n",
        "\n",
        " [0.9453455  0.69839573]\n",
        "\n",
        " [0.40269796 0.47843578]]\n",
        "\n",
        "[0.93481039 0.67669825 1.17970669 0.58049571 0.82706477 0.97998786\n",
        " 0.12867748 0.66823056 1.17534451 0.62535305]\n",
        "\n",
        "[0.92635683 0.01773902 0.77789214 0.88641251 0.71495751 0.49164717\n",
        " 0.22467258 1.18618885 0.63627702 0.87114238]"
      ],
      "metadata": {
        "id": "kAd5TqC0nrA-"
      }
    },
    {
      "cell_type": "markdown",
      "metadata": {
        "id": "10gbuTgE4AOH"
      },
      "source": [
        "7. Заменить максимальный элемент массива на ноль"
      ]
    },
    {
      "cell_type": "code",
      "execution_count": null,
      "metadata": {
        "id": "gqwuO2T_5Aqd"
      },
      "outputs": [],
      "source": [
        "import numpy as np\n",
        "z = np.random.random(10)\n",
        "maxim=np.argmax(z)\n",
        "print(z)\n",
        "z[maxim]=0\n",
        "print(z)"
      ]
    },
    {
      "cell_type": "markdown",
      "source": [
        "[0.02202948 0.96114588 0.31485687 0.56452426 0.22525178 0.8800752\n",
        " 0.82980479 0.0669179  0.92099256 0.74823879]\n",
        "\n",
        "[0.02202948 0.         0.31485687 0.56452426 0.22525178 0.8800752\n",
        " 0.82980479 0.0669179  0.92099256 0.74823879]"
      ],
      "metadata": {
        "id": "Y8wWrnb4oFpo"
      }
    },
    {
      "cell_type": "markdown",
      "metadata": {
        "id": "88m_eWXM6nZY"
      },
      "source": [
        "8. Дан массив, добавить 1 к каждому элементу с индексом, заданным в другом массиве. Добавление производиться только 1 раз"
      ]
    },
    {
      "cell_type": "code",
      "execution_count": null,
      "metadata": {
        "id": "-5yj9k126pfh"
      },
      "outputs": [],
      "source": [
        "import numpy as np\n",
        "z = np.ones(10)\n",
        "i = np.random.randint(0,len(z),20)\n",
        "print(z)\n",
        "print(i)\n",
        "z += np.bincount(i, minlength=len(z))\n",
        "print(z)"
      ]
    },
    {
      "cell_type": "markdown",
      "source": [
        "[1. 1. 1. 1. 1. 1. 1. 1. 1. 1.]\n",
        "\n",
        "[0 0 7 6 5 4 0 9 9 3 5 8 2 4 8 8 1 9 3 5]\n",
        "\n",
        "[4. 2. 2. 3. 3. 4. 2. 2. 4. 4.]\n"
      ],
      "metadata": {
        "id": "02-OeGDmoW9T"
      }
    },
    {
      "cell_type": "markdown",
      "metadata": {
        "id": "0HByAVK77JCG"
      },
      "source": [
        "9. Дан вектор [1, 2, 3, 4, 5], построить новый вектор с тремя нулями между каждым значением"
      ]
    },
    {
      "cell_type": "code",
      "execution_count": null,
      "metadata": {
        "id": "2AiZt-J47dqq"
      },
      "outputs": [],
      "source": [
        "import numpy as np\n",
        "z = np.array([1,2,3,4,5])\n",
        "lens = 5 + (5 - 1) * 3\n",
        "z1 = np.zeros(lens)\n",
        "z1[::4] = z\n",
        "print(z)\n",
        "print(z1)"
      ]
    },
    {
      "cell_type": "markdown",
      "source": [
        "[1 2 3 4 5]\n",
        "\n",
        "[1. 0. 0. 0. 2. 0. 0. 0. 3. 0. 0. 0. 4. 0. 0. 0. 5.]\n"
      ],
      "metadata": {
        "id": "L94uIAqIojVU"
      }
    },
    {
      "cell_type": "markdown",
      "metadata": {
        "id": "i0uK-dO08AKP"
      },
      "source": [
        "10. Найти ближайшее к заданному значению число в заданном массиве"
      ]
    },
    {
      "cell_type": "code",
      "execution_count": null,
      "metadata": {
        "id": "sE0DlZO_-4Cb"
      },
      "outputs": [],
      "source": [
        "import numpy as np\n",
        "z = np.arange(100) # Число\n",
        "v = np.random.uniform(0,100) # Массив\n",
        "print(z)\n",
        "print(v)\n",
        "x=z[np.abs(z-v).argmin()]\n",
        "print(x)"
      ]
    },
    {
      "cell_type": "markdown",
      "source": [
        "[ 0  1  2  3  4  5  6  7  8  9 10 11 12 13 14 15 16 17 18 19 20 21 22 23\n",
        " 24 25 26 27 28 29 30 31 32 33 34 35 36 37 38 39 40 41 42 43 44 45 46 47\n",
        " 48 49 50 51 52 53 54 55 56 57 58 59 60 61 62 63 64 65 66 67 68 69 70 71\n",
        " 72 73 74 75 76 77 78 79 80 81 82 83 84 85 86 87 88 89 90 91 92 93 94 95\n",
        " 96 97 98 99]\n",
        "\n",
        "47.6199566412624\n",
        "\n",
        "48"
      ],
      "metadata": {
        "id": "GZuIQeSBovwF"
      }
    },
    {
      "cell_type": "markdown",
      "metadata": {
        "id": "0zUpsgh8uCfQ"
      },
      "source": [
        "## Вопросы\n",
        "\n",
        "\n"
      ]
    },
    {
      "cell_type": "markdown",
      "metadata": {
        "id": "RQEMkoq5vc3k"
      },
      "source": [
        "**1**. Какой тип (dtype) будут иметь элементы массива?\n",
        "``` python\n",
        "np.array([1, 4, 2, 5, 3])\n",
        "np.array([1., 4, 2, 5, 3])\n",
        "np.array([1, 4, 2, 5, 3], dtype='float128')\n",
        "np.array([1., 4, 2, 5, 3], dtype='complex128')\n",
        "np.array([1, 4, 2, 5, 3], dtype ='float64')\n",
        "np.array([1, 4, 2, 5, 3], dtype =int64)\n",
        "np.array([1, 4, 2, 5, 3], dtype='bool')\n",
        "np.array([1, 4, 2, 5, 3], dtype='str')\n",
        "np.array([1, 4, 2, 5, '3'])\n",
        "np.array([1, -4, 2, 0, 1j])\n",
        "```"
      ]
    },
    {
      "cell_type": "markdown",
      "source": [
        "1) np.array([1, 4, 2, 5, 3])\n",
        "Тип: int64 (или int32, в зависимости от платформы).\n",
        "\n",
        "2) np.array([1., 4, 2, 5, 3])\n",
        "Тип: float64 (все элементы преобразуются в тип float).\n",
        "\n",
        "3) np.array([1, 4, 2, 5, 3], dtype='float128')\n",
        "Тип: float128 (если поддерживается на платформе).\n",
        "\n",
        "4) np.array([1., 4, 2, 5, 3], dtype='complex128')\n",
        "Тип: complex128 (все элементы становятся комплексными).\n",
        "\n",
        "5) np.array([1, 4, 2, 5, 3], dtype ='float64')\n",
        "Тип: float64 (все элементы будут преобразованы в тип float64).\n",
        "\n",
        "6) np.array([1, 4, 2, 5, 3], dtype =int64)\n",
        "Тип: int64.\n",
        "\n",
        "7) np.array([1, 4, 2, 5, 3], dtype='bool')\n",
        "Тип: bool (все элементы будут преобразованы в булевы значения: True или False).\n",
        "\n",
        "8) np.array([1, 4, 2, 5, 3], dtype='str')\n",
        "Тип: str (все элементы становятся строками).\n",
        "\n",
        "9) np.array([1, 4, 2, 5, '3'])\n",
        "Тип: str (массив будет приведен к строковому типу, так как встречается строковый элемент).\n",
        "\n",
        "10) np.array([1, -4, 2, 0, 1j])\n",
        "Тип: complex128 (включение комплексного числа заставляет весь массив быть комплексным)."
      ],
      "metadata": {
        "id": "E9XMATCMpPH3"
      }
    },
    {
      "cell_type": "markdown",
      "metadata": {
        "id": "SlJfe4Bgvd16"
      },
      "source": [
        "**2**. Что будет выведено в консоль и почему?\n",
        "``` python\n",
        "np.array([1, 4, 2, 5, 3], dtype='str')[1] + '1'\n",
        "np.array([1, -4, 2, 0, 3], dtype='bool')[3] or np.array([1, -4, 2, 0, 3])[1]\n",
        "np.array([1, -4, 2, 0, 3], dtype='bool')[3] and np.array([1, -4, 2, 0, 3])[1]\n",
        "np.array([1, -4, 2, 0, True], dtype='int64')[-1]\n",
        "np.array([1, -4, 2, 0, 1j], dtype='int64')[1]\n",
        "np.array([1, -4, 2, 0, 1j], dtype='str')[-1]\n",
        "np.array([1, 4, 2, 5, '3'])[-1] * 3\n",
        "```"
      ]
    },
    {
      "cell_type": "markdown",
      "source": [
        "1. np.array([1, 4, 2, 5, 3], dtype='str')\n",
        "[1] + '1'\n",
        "Вывод: '41'. Элемент с индексом 1 — строка '4', и добавляется строка '1'.\n",
        "\n",
        "2. np.array([1, -4, 2, 0, 3], dtype='bool')[3] or np.array([1, -4, 2, 0, 3])[1]\n",
        "Вывод: True. Операция or между False (элемент с индексом 3) и True (элемент с индексом 1) вернет True.\n",
        "\n",
        "3. np.array([1, -4, 2, 0, 3], dtype='bool')[3] and np.array([1, -4, 2, 0, 3])[1]\n",
        "Вывод: False. Операция and между False (элемент с индексом 3) и True (элемент с индексом 1) вернет False.\n",
        "\n",
        "4. np.array([1, -4, 2, 0, True], dtype='int64')[-1]\n",
        "Вывод: 1. Значение True преобразуется в 1.\n",
        "\n",
        "5. np.array([1, -4, 2, 0, 1j], dtype='int64')[1]\n",
        "Ошибка: невозможно привести комплексное число 1j к целочисленному типу.\n",
        "\n",
        "6. np.array([1, -4, 2, 0, 1j], dtype='str')[-1]\n",
        "Вывод: '1j'. Преобразование комплексного числа в строку.\n",
        "\n",
        "7. np.array([1, 4, 2, 5, '3'])[-1] * 3\n",
        "Вывод: '333'. Последний элемент — строка '3', умноженная на 3."
      ],
      "metadata": {
        "id": "B6mvdcCxpnWx"
      }
    },
    {
      "cell_type": "markdown",
      "metadata": {
        "id": "X50PESx7xVAc"
      },
      "source": [
        "**3**. Каков результат операции?\n",
        "\n",
        "``` python\n",
        "np.ones((3, 5), dtype=float)\n",
        "np.full((3, 5), 3.14)\n",
        "np.linspace(0, 1, 5)\n",
        "np.diag((1,3,5))\n",
        "np.smile((1,3,5))\n",
        "np.random.random((3, 3))\n",
        "np.eye(3)\n",
        "np.empty(3)\n",
        "```\n",
        "\n"
      ]
    },
    {
      "cell_type": "markdown",
      "source": [
        "1. массив размером (3, 5), заполненный единицами типа float64.\n",
        "\n",
        "2. массив размером (3, 5), заполненный значением 3.14.\n",
        "\n",
        "3. массив из 5 равномерно распределенных значений от 0 до 1.\n",
        "\n",
        "4. диагональная матрица с элементами 1, 3, 5.\n",
        "\n",
        "5. np.smile не существует в библиотеке numpy.\n",
        "\n",
        "6. массив (3, 3) с случайными значениями от 0 до 1.\n",
        "\n",
        "7. единичная матрица размером (3, 3).\n",
        "\n",
        "8. массив размером 3 с неинициализированными значениями (мусорные данные)."
      ],
      "metadata": {
        "id": "UDrIk1Scp-lD"
      }
    },
    {
      "cell_type": "markdown",
      "metadata": {
        "id": "D6Bt-8cfAWrA"
      },
      "source": [
        "**4**. Дан двумерный массив X, что будет выведено в консоль?\n",
        "\n",
        "``` python\n",
        "X = np.array([[3, 5, 2, 4],\n",
        "      [7, 6, 8, 8],\n",
        "      [1, 6, 7, 7]])\n",
        "```\n",
        "\n",
        "``` python\n",
        "X[0,0]\n",
        "X[-1,-1]\n",
        "X[0:1,-1]\n",
        "X[0:2,-1]\n",
        "X[0:2,0:2]\n",
        "X[1,1:3]\n",
        "X[1,:]\n",
        "X[1,:]\n",
        "X[:,:]\n",
        "X[:]\n",
        "X[::2,::2]\n",
        "X[0:3:2,0:3:2]\n",
        "X[::-1,::-1]\n",
        "```"
      ]
    },
    {
      "cell_type": "markdown",
      "source": [
        "1. 3\n",
        " Это элемент в первой строке и первом столбце.\n",
        "\n",
        "2. 7\n",
        " Это последний элемент (последняя строка и последний столбец).\n",
        "\n",
        "3. [4]. Это первая строка и последний столбец.\n",
        "\n",
        "4. [4, 8]. Это первые две строки и последний столбец.\n",
        "\n",
        "5. [[3 5]\n",
        " [7 6]]\n",
        "\n",
        "6. [6 8]. Это вторая строка, начиная с индекса 1 и до индекса 3.\n",
        "\n",
        "7. [7, 6, 8, 8]. Это вся вторая строка.\n",
        "\n",
        "8. [[3 5 2 4]\n",
        " [7 6 8 8]\n",
        " [1 6 7 7]]\n",
        "Это весь массив.\n",
        "\n",
        "9. [[3 2]\n",
        " [1 7]]\n",
        "Это каждая вторая строка и каждый второй столбец.\n",
        "\n",
        "10. [[3 2]\n",
        " [1 7]]\n",
        "Это каждую вторую строку и столбец от первого до третьего.\n",
        "\n",
        "11. [[7 7 6 1]\n",
        " [8 8 6 7]\n",
        " [4 2 5 3]]\n",
        "Это массив, перевернутый по строкам и столбцам.\n",
        "\n"
      ],
      "metadata": {
        "id": "siNZVqwOq3fZ"
      }
    },
    {
      "cell_type": "markdown",
      "metadata": {
        "id": "QIJQxjzcX6yC"
      },
      "source": [
        "**5**. Дан двумерный массив grid, в чем различее между операциями?\n",
        "\n",
        "\n",
        "``` python\n",
        "grid = np.arange(16).reshape((4, 4))\n",
        "```\n",
        "\n",
        "``` python\n",
        "np.split(grid, [2])\n",
        "np.split(grid, [2], axis=1)\n",
        "```\n"
      ]
    },
    {
      "cell_type": "markdown",
      "source": [
        "* np.split(grid, [2])\n",
        "Разделяет массив grid на два массива по строкам, начиная с индекса 2:\n",
        "\n",
        "      [array([[ 0,  1,  2,  3],\n",
        "\n",
        "              [ 4,  5,  6,  7]]),\n",
        "\n",
        "       array([[ 8,  9, 10, 11],\n",
        "\n",
        "              [12, 13, 14, 15]])]\n",
        "\n",
        "* np.split(grid, [2], axis=1)\n",
        "Разделяет массив по столбцам, начиная с индекса 2:\n",
        "\n",
        "      [array([[ 0,  1],\n",
        "              [ 4,  5],\n",
        "              [ 8,  9]]),\n",
        "      array([[ 2,  3],\n",
        "             [ 6,  7],\n",
        "             [10, 11]]),\n",
        "      array([[12, 13],\n",
        "             [14, 15]])]"
      ],
      "metadata": {
        "id": "fI6m0xVAsOiq"
      }
    },
    {
      "cell_type": "markdown",
      "metadata": {
        "id": "92X1lxGoX6yC"
      },
      "source": [
        "**6**. В чем различие между операциями?\n",
        "\n",
        "``` python\n",
        "    [1, 2, 3] + [3, 2, 1]\n",
        "    np.array([1, 2, 3]) + np.array([3, 2, 1])\n",
        "```"
      ]
    },
    {
      "cell_type": "markdown",
      "source": [],
      "metadata": {
        "id": "PPP1MEU9ro77"
      }
    },
    {
      "cell_type": "markdown",
      "source": [
        "1. [1, 2, 3] + [3, 2, 1]\n",
        "Это операция сложения списков. Результат:\n",
        "[1, 2, 3, 3, 2, 1]\n",
        "\n",
        "\n",
        "2. np.array([1, 2, 3]) + np.array([3, 2, 1])\n",
        "Это операция поэлементного сложения массивов NumPy. Результат:\n",
        "[4, 4, 4]"
      ],
      "metadata": {
        "id": "yocs7Um1sldO"
      }
    },
    {
      "cell_type": "markdown",
      "metadata": {
        "id": "fwyjoVR5X6yC"
      },
      "source": [
        "**7**. Как в CodeLab измерить время выполнения кода?"
      ]
    },
    {
      "cell_type": "markdown",
      "source": [
        "Для измерения времени выполнения кода в CodeLab можно использовать модуль time или timeit:\n",
        "\n",
        "Используя time:\n",
        "\n",
        "      import time\n",
        "      start_time = time.time()\n",
        "\n",
        "      print(f\"Время выполнения: {time.time() - start_time} секунд\")\n",
        "Используя timeit:\n",
        "\n",
        "      import timeit\n",
        "      print(timeit.timeit('Ваш код', number=1000))"
      ],
      "metadata": {
        "id": "ump9EcXvsVJI"
      }
    },
    {
      "cell_type": "markdown",
      "metadata": {
        "id": "F84Bg1R1X6yC"
      },
      "source": [
        "**8**. Дан массив X, каковы результаты операций?\n",
        "\n",
        "```python\n",
        "X = np.array([[3, 5, 2, 4],\n",
        "      [7, 6, 8, 8],\n",
        "      [1, 6, 7, 7]])\n",
        "\n",
        "np.sum(M)\n",
        "np.sum(M, axis=1)\n",
        "np.sum(M, axis=0)\n",
        "np.sum(M, axis=2)\n",
        "np.sum(M, 1)\n",
        "sum(M)\n",
        "sum(M,1)\n",
        "```"
      ]
    },
    {
      "cell_type": "markdown",
      "source": [
        "54\n",
        "\n",
        "[14,29,21]\n",
        "\n",
        "[11, 17, 17, 19]\n",
        "\n",
        "Ошибка. Так как X — это двумерный массив, нельзя суммировать по оси 2.\n",
        "\n",
        "Ошибка. Так как X — это двумерный массив, нельзя суммировать по оси 2.\n",
        "\n",
        "Это стандартная функция Python для суммирования, которая будет работать для списков, но не для массивов NumPy.\n",
        "\n",
        "Это стандартная функция Python для суммирования, которая будет работать для списков, но не для массивов NumPy."
      ],
      "metadata": {
        "id": "qZjQgH6jtIkd"
      }
    },
    {
      "cell_type": "markdown",
      "metadata": {
        "id": "PDdrJryZX6yC"
      },
      "source": [
        "**9**. Дан массив X, что будет выведено в консоль?\n",
        "\n",
        "```python\n",
        "X = np.array([1,2,3,4])\n",
        "\n",
        "X > 3\n",
        "X < 3\n",
        "X[X < 3]\n",
        "X[X > 3]\n",
        "X[X != 3]\n",
        "```"
      ]
    },
    {
      "cell_type": "markdown",
      "source": [
        "[False False False  True]\n",
        "\n",
        "[ True  True False False]\n",
        "\n",
        "[1 2]\n",
        "\n",
        "[4]\n",
        "\n",
        "[1 2 4]"
      ],
      "metadata": {
        "id": "srqSZru8t7BU"
      }
    },
    {
      "cell_type": "markdown",
      "metadata": {
        "id": "L7IsG2zVX6yD"
      },
      "source": [
        "**10**.  В чем преимущество массивов NumPy по сравнению с обычными списками.  Чем обусловлено это преимущество?"
      ]
    },
    {
      "cell_type": "markdown",
      "source": [
        "1. Производительность: Массивы NumPy значительно быстрее списков Python благодаря оптимизированным операциям с данными и векторизации.\n",
        "\n",
        "2. Меньше памяти: Массивы NumPy занимают меньше памяти, чем списки Python, поскольку используют более компактное представление данных.\n",
        "\n",
        "3. Векторизация: NumPy поддерживает векторные операции, которые позволяют выполнять математические операции поэлементно над большими массивами без использования циклов.\n",
        "\n",
        "4. Работа с многомерными данными: NumPy предоставляет удобные структуры для работы с многомерными массивами (матрицами и т.д.), чего нет в стандартных списках Python."
      ],
      "metadata": {
        "id": "sFMBhyR0uADJ"
      }
    }
  ],
  "metadata": {
    "colab": {
      "provenance": [],
      "include_colab_link": true
    },
    "kernelspec": {
      "display_name": "Python 3",
      "name": "python3"
    },
    "language_info": {
      "codemirror_mode": {
        "name": "ipython",
        "version": 3
      },
      "file_extension": ".py",
      "mimetype": "text/x-python",
      "name": "python",
      "nbconvert_exporter": "python",
      "pygments_lexer": "ipython3",
      "version": "3.12.2"
    }
  },
  "nbformat": 4,
  "nbformat_minor": 0
}